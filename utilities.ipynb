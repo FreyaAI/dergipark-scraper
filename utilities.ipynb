{
 "cells": [
  {
   "cell_type": "code",
   "execution_count": 2,
   "metadata": {},
   "outputs": [
    {
     "data": {
      "text/plain": [
       "<Response [200]>"
      ]
     },
     "execution_count": 2,
     "metadata": {},
     "output_type": "execute_result"
    }
   ],
   "source": [
    "import requests\n",
    "\n",
    "\n",
    "requests.get(\"https://offcloud.com/api/remote/download/?apikey=PSBsZLFKfwWb93OqhyS3guOc2mrp1245&url=https://dergipark.org.tr/tr/search/1?q=&section=articles&aggs%5Bjournal.id%5D%5B0%5D=4100\")"
   ]
  },
  {
   "cell_type": "code",
   "execution_count": 4,
   "metadata": {},
   "outputs": [
    {
     "data": {
      "text/plain": [
       "117976"
      ]
     },
     "execution_count": 4,
     "metadata": {},
     "output_type": "execute_result"
    }
   ],
   "source": [
    "import requests\n",
    "import mimetypes\n",
    "from pathlib import Path\n",
    "\n",
    "def _get_extension(content_type):\n",
    "    # Mapping for additional content types\n",
    "    extension_map = {\n",
    "        \"application/pdf\": \".pdf\",\n",
    "        \"application/epub+zip\": \".epub\",\n",
    "        \"image/jpeg\": \".jpg\",\n",
    "        \"image/png\": \".png\",\n",
    "        \"text/html\": \".html\",\n",
    "        \"text/html; charset=UTF-8\" : \".html\",\n",
    "        \"application/json\": \".json\",\n",
    "        \"image/tiff\": \".tiff\",\n",
    "        \"application/x-mobipocket-ebook\": \".mobi\",\n",
    "        \"image/vnd.djvu\": \".djvu\",\n",
    "        # Add more mappings as needed\n",
    "    }\n",
    "    return extension_map.get(\n",
    "        content_type, mimetypes.guess_extension(content_type) or \".txt\"\n",
    "    )\n",
    "\n",
    "result = requests.get(\"https://dergipark.org.tr/tr/pub/omujecm/issue/80299/1292593\")\n",
    "filename = \"fileexample\"\n",
    "extension = _get_extension(result.headers[\"content-type\"])\n",
    "\n",
    "file = Path(f\"{filename}{extension}\")\n",
    "file.write_bytes(result.content)"
   ]
  }
 ],
 "metadata": {
  "kernelspec": {
   "display_name": "Python 3",
   "language": "python",
   "name": "python3"
  },
  "language_info": {
   "codemirror_mode": {
    "name": "ipython",
    "version": 3
   },
   "file_extension": ".py",
   "mimetype": "text/x-python",
   "name": "python",
   "nbconvert_exporter": "python",
   "pygments_lexer": "ipython3",
   "version": "3.11.6"
  }
 },
 "nbformat": 4,
 "nbformat_minor": 2
}
